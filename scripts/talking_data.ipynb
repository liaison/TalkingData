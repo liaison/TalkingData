{
 "cells": [
  {
   "cell_type": "markdown",
   "metadata": {},
   "source": [
    "### About\n",
    "\n",
    "This project is about [a challenge from Kaggle](https://www.kaggle.com/c/talkingdata-mobile-user-demographics/) to predict the demographic information of mobile users.\n",
    "\n",
    "This notebook is greatly inspired by [the notebook](https://www.kaggle.com/dvasyukova/talkingdata-mobile-user-demographics/brand-and-model-based-benchmarks)."
   ]
  },
  {
   "cell_type": "markdown",
   "metadata": {},
   "source": [
    "## Data Description"
   ]
  },
  {
   "cell_type": "code",
   "execution_count": 2,
   "metadata": {
    "collapsed": false
   },
   "outputs": [],
   "source": [
    "%matplotlib inline\n",
    "\n",
    "import pandas as pd\n",
    "import numpy as np\n",
    "import matplotlib.pyplot as plt\n",
    "\n",
    "import os"
   ]
  },
  {
   "cell_type": "code",
   "execution_count": 10,
   "metadata": {
    "collapsed": false
   },
   "outputs": [
    {
     "data": {
      "text/plain": [
       "['gender_age_test.csv', 'gender_age_train.csv', 'phone_brand_device_model.csv']"
      ]
     },
     "execution_count": 10,
     "metadata": {},
     "output_type": "execute_result"
    }
   ],
   "source": [
    "# list the data files\n",
    "os.listdir('../data')"
   ]
  },
  {
   "cell_type": "markdown",
   "metadata": {},
   "source": [
    "#### Gender-Age-Group"
   ]
  },
  {
   "cell_type": "code",
   "execution_count": 4,
   "metadata": {
    "collapsed": false
   },
   "outputs": [
    {
     "data": {
      "text/html": [
       "<div>\n",
       "<table border=\"1\" class=\"dataframe\">\n",
       "  <thead>\n",
       "    <tr style=\"text-align: right;\">\n",
       "      <th></th>\n",
       "      <th>device_id</th>\n",
       "      <th>gender</th>\n",
       "      <th>age</th>\n",
       "      <th>group</th>\n",
       "    </tr>\n",
       "  </thead>\n",
       "  <tbody>\n",
       "    <tr>\n",
       "      <th>0</th>\n",
       "      <td>-8076087639492063270</td>\n",
       "      <td>M</td>\n",
       "      <td>35</td>\n",
       "      <td>M32-38</td>\n",
       "    </tr>\n",
       "    <tr>\n",
       "      <th>1</th>\n",
       "      <td>-2897161552818060146</td>\n",
       "      <td>M</td>\n",
       "      <td>35</td>\n",
       "      <td>M32-38</td>\n",
       "    </tr>\n",
       "    <tr>\n",
       "      <th>2</th>\n",
       "      <td>-8260683887967679142</td>\n",
       "      <td>M</td>\n",
       "      <td>35</td>\n",
       "      <td>M32-38</td>\n",
       "    </tr>\n",
       "    <tr>\n",
       "      <th>3</th>\n",
       "      <td>-4938849341048082022</td>\n",
       "      <td>M</td>\n",
       "      <td>30</td>\n",
       "      <td>M29-31</td>\n",
       "    </tr>\n",
       "    <tr>\n",
       "      <th>4</th>\n",
       "      <td>245133531816851882</td>\n",
       "      <td>M</td>\n",
       "      <td>30</td>\n",
       "      <td>M29-31</td>\n",
       "    </tr>\n",
       "  </tbody>\n",
       "</table>\n",
       "</div>"
      ],
      "text/plain": [
       "             device_id gender  age   group\n",
       "0 -8076087639492063270      M   35  M32-38\n",
       "1 -2897161552818060146      M   35  M32-38\n",
       "2 -8260683887967679142      M   35  M32-38\n",
       "3 -4938849341048082022      M   30  M29-31\n",
       "4   245133531816851882      M   30  M29-31"
      ]
     },
     "execution_count": 4,
     "metadata": {},
     "output_type": "execute_result"
    }
   ],
   "source": [
    "df_gender_age_train = pd.read_csv('../data/gender_age_train.csv')\n",
    "df_gender_age_train.head()"
   ]
  },
  {
   "cell_type": "code",
   "execution_count": 5,
   "metadata": {
    "collapsed": false
   },
   "outputs": [
    {
     "data": {
      "image/png": "[encoded data removed]",
      "text/plain": [
       "<matplotlib.figure.Figure at 0x113e71dd8>"
      ]
     },
     "metadata": {},
     "output_type": "display_data"
    }
   ],
   "source": [
    "gender_age_group = df_gender_age_train.group.value_counts().sort_index(ascending=False)\n",
    "\n",
    "color_array = ['g' for i in np.arange(6)] + ['r' for i in np.arange(6)]\n",
    "\n",
    "''' plot the data in horizontal bars. '''\n",
    "plt.figure()\n",
    "gender_age_group.plot(kind='barh', color=color_array,\n",
    "                      alpha=0.5, grid=True, figsize=(16, 6))\n",
    "plt.show()"
   ]
  },
  {
   "cell_type": "code",
   "execution_count": 6,
   "metadata": {
    "collapsed": false
   },
   "outputs": [
    {
     "data": {
      "text/plain": [
       "<matplotlib.axes._subplots.AxesSubplot at 0x113e719b0>"
      ]
     },
     "execution_count": 6,
     "metadata": {},
     "output_type": "execute_result"
    },
    {
     "data": {
      "image/png": "[encoded data removed]",
      "text/plain": [
       "<matplotlib.figure.Figure at 0x114796860>"
      ]
     },
     "metadata": {},
     "output_type": "display_data"
    }
   ],
   "source": [
    "df_gender_age_train.gender.value_counts().plot(kind='barh',\n",
    "    color=['g', 'r'], alpha=0.6, grid=True, figsize=(16, 2))"
   ]
  },
  {
   "cell_type": "code",
   "execution_count": 7,
   "metadata": {
    "collapsed": false
   },
   "outputs": [],
   "source": [
    "gender_age_dist = df_gender_age_train.groupby(['gender', 'age']).size()\n",
    "\n",
    "age_range = np.arange(df_gender_age_train.age.min(),\n",
    "                      df_gender_age_train.age.max())\n",
    "\n",
    "gender_age_dist = gender_age_dist.unstack(level=0)\n",
    "\n",
    "gender_age_dist = gender_age_dist.reindex(index=age_range).fillna(0)"
   ]
  },
  {
   "cell_type": "code",
   "execution_count": 94,
   "metadata": {
    "collapsed": false
   },
   "outputs": [
    {
     "data": {
      "text/plain": [
       "<matplotlib.figure.Figure at 0x11bc852e8>"
      ]
     },
     "metadata": {},
     "output_type": "display_data"
    },
    {
     "data": {
      "image/png": "[encoded data removed]",
      "text/plain": [
       "<matplotlib.figure.Figure at 0x1190b9518>"
      ]
     },
     "metadata": {},
     "output_type": "display_data"
    }
   ],
   "source": [
    "plt.figure()\n",
    "ax1, ax2 = gender_age_dist.iloc[10:70].plot(kind='bar',\n",
    "                                figsize=(16,6),\n",
    "                                subplots=True,\n",
    "                                color=['r', 'g'], alpha=0.6)\n",
    "# xlabels = ['%i' % i for i in age_range]\n",
    "ax2.set_xticklabels(ax2.get_xticklabels(), rotation=25)\n",
    "\n",
    "# plot separated lines in the subplots\n",
    "ax1.vlines(np.array([23,26,28,32,42])-0.5,0,1800,alpha=0.5,linewidth=2,color='r')\n",
    "ax2.vlines(np.array([22,26,28,31,38])-0.5,0,3000,alpha=0.5,linewidth=2,color='r')\n",
    "\n",
    "plt.show()"
   ]
  },
  {
   "cell_type": "markdown",
   "metadata": {},
   "source": [
    "#### Phone Brand & Model"
   ]
  },
  {
   "cell_type": "code",
   "execution_count": 54,
   "metadata": {
    "collapsed": false
   },
   "outputs": [
    {
     "data": {
      "text/html": [
       "<div>\n",
       "<table border=\"1\" class=\"dataframe\">\n",
       "  <thead>\n",
       "    <tr style=\"text-align: right;\">\n",
       "      <th></th>\n",
       "      <th>device_id</th>\n",
       "      <th>phone_brand</th>\n",
       "      <th>device_model</th>\n",
       "    </tr>\n",
       "  </thead>\n",
       "  <tbody>\n",
       "    <tr>\n",
       "      <th>0</th>\n",
       "      <td>-8890648629457979026</td>\n",
       "      <td>小米</td>\n",
       "      <td>红米</td>\n",
       "    </tr>\n",
       "    <tr>\n",
       "      <th>1</th>\n",
       "      <td>1277779817574759137</td>\n",
       "      <td>小米</td>\n",
       "      <td>MI 2</td>\n",
       "    </tr>\n",
       "    <tr>\n",
       "      <th>2</th>\n",
       "      <td>5137427614288105724</td>\n",
       "      <td>三星</td>\n",
       "      <td>Galaxy S4</td>\n",
       "    </tr>\n",
       "    <tr>\n",
       "      <th>3</th>\n",
       "      <td>3669464369358936369</td>\n",
       "      <td>SUGAR</td>\n",
       "      <td>时尚手机</td>\n",
       "    </tr>\n",
       "    <tr>\n",
       "      <th>4</th>\n",
       "      <td>-5019277647504317457</td>\n",
       "      <td>三星</td>\n",
       "      <td>Galaxy Note 2</td>\n",
       "    </tr>\n",
       "  </tbody>\n",
       "</table>\n",
       "</div>"
      ],
      "text/plain": [
       "             device_id phone_brand   device_model\n",
       "0 -8890648629457979026          小米             红米\n",
       "1  1277779817574759137          小米           MI 2\n",
       "2  5137427614288105724          三星      Galaxy S4\n",
       "3  3669464369358936369       SUGAR           时尚手机\n",
       "4 -5019277647504317457          三星  Galaxy Note 2"
      ]
     },
     "execution_count": 54,
     "metadata": {},
     "output_type": "execute_result"
    }
   ],
   "source": [
    "df_phone_brand_device_model = pd.read_csv('../data/phone_brand_device_model.csv')\n",
    "df_phone_brand_device_model.head()"
   ]
  },
  {
   "cell_type": "markdown",
   "metadata": {},
   "source": [
    "##### Deduplication"
   ]
  },
  {
   "cell_type": "code",
   "execution_count": 19,
   "metadata": {
    "collapsed": false
   },
   "outputs": [
    {
     "name": "stdout",
     "output_type": "stream",
     "text": [
      "unique device_id count: 186716\n",
      "total records: 187245\n"
     ]
    }
   ],
   "source": [
    "print('unique device_id count:', df_phone_brand_device_model.device_id.nunique())\n",
    "print('total records:', len(df_phone_brand_device_model))"
   ]
  },
  {
   "cell_type": "markdown",
   "metadata": {},
   "source": [
    "Apparently, there are some **duplicated** device ids. There could be some redundant records.\n",
    "\n",
    "Or in a worse case, the information might NOT be consistent, *i.e.* the same ```device_id```, but different brand or model names. In the following code section, we check those inconsistent devices."
   ]
  },
  {
   "cell_type": "code",
   "execution_count": 47,
   "metadata": {
    "collapsed": false
   },
   "outputs": [
    {
     "name": "stdout",
     "output_type": "stream",
     "text": [
      "Inconsistent devices:\n"
     ]
    },
    {
     "data": {
      "text/html": [
       "<div>\n",
       "<table border=\"1\" class=\"dataframe\">\n",
       "  <thead>\n",
       "    <tr style=\"text-align: right;\">\n",
       "      <th></th>\n",
       "      <th>phone_brand</th>\n",
       "      <th>device_model</th>\n",
       "      <th>phone_brand</th>\n",
       "      <th>device_model</th>\n",
       "    </tr>\n",
       "    <tr>\n",
       "      <th>device_id</th>\n",
       "      <th></th>\n",
       "      <th></th>\n",
       "      <th></th>\n",
       "      <th></th>\n",
       "    </tr>\n",
       "  </thead>\n",
       "  <tbody>\n",
       "    <tr>\n",
       "      <th>-7297178577997113203</th>\n",
       "      <td>华为</td>\n",
       "      <td>荣耀畅玩5X</td>\n",
       "      <td>华为</td>\n",
       "      <td>荣耀3C</td>\n",
       "    </tr>\n",
       "    <tr>\n",
       "      <th>-7059081542575379359</th>\n",
       "      <td>LG</td>\n",
       "      <td>Nexus 5</td>\n",
       "      <td>魅族</td>\n",
       "      <td>魅蓝Note 2</td>\n",
       "    </tr>\n",
       "    <tr>\n",
       "      <th>-6590454305031525112</th>\n",
       "      <td>小米</td>\n",
       "      <td>MI 3</td>\n",
       "      <td>华为</td>\n",
       "      <td>荣耀6 Plus</td>\n",
       "    </tr>\n",
       "    <tr>\n",
       "      <th>-5269721363279128080</th>\n",
       "      <td>三星</td>\n",
       "      <td>Galaxy Core Advance</td>\n",
       "      <td>小米</td>\n",
       "      <td>MI 3</td>\n",
       "    </tr>\n",
       "    <tr>\n",
       "      <th>-3004353610608679970</th>\n",
       "      <td>酷派</td>\n",
       "      <td>5891</td>\n",
       "      <td>酷派</td>\n",
       "      <td>7296</td>\n",
       "    </tr>\n",
       "    <tr>\n",
       "      <th>5245428108336915020</th>\n",
       "      <td>魅族</td>\n",
       "      <td>MX4</td>\n",
       "      <td>小米</td>\n",
       "      <td>MI One Plus</td>\n",
       "    </tr>\n",
       "  </tbody>\n",
       "</table>\n",
       "</div>"
      ],
      "text/plain": [
       "                     phone_brand         device_model phone_brand device_model\n",
       "device_id                                                                     \n",
       "-7297178577997113203          华为               荣耀畅玩5X          华为         荣耀3C\n",
       "-7059081542575379359          LG              Nexus 5          魅族     魅蓝Note 2\n",
       "-6590454305031525112          小米                 MI 3          华为     荣耀6 Plus\n",
       "-5269721363279128080          三星  Galaxy Core Advance          小米         MI 3\n",
       "-3004353610608679970          酷派                 5891          酷派         7296\n",
       " 5245428108336915020          魅族                  MX4          小米  MI One Plus"
      ]
     },
     "execution_count": 47,
     "metadata": {},
     "output_type": "execute_result"
    }
   ],
   "source": [
    "device_id_group = df_phone_brand_device_model.groupby('device_id').size()\n",
    "\n",
    "# first, find out the device_id that appear at least twice.\n",
    "duplicate_device_ids = device_id_group[device_id_group > 1].index\n",
    "duplicate_devices = df_phone_brand_device_model.loc[\n",
    "    df_phone_brand_device_model.device_id.isin(duplicate_device_ids)]\n",
    "\n",
    "# first element within each group\n",
    "group_one = duplicate_devices.groupby('device_id').first()\n",
    "# last element within each group\n",
    "group_two = duplicate_devices.groupby('device_id').last()\n",
    "\n",
    "# find out those devices with the same 'device_id' but different brand or model name\n",
    "inconsistent_devices = (group_one != group_two).sum(axis=1).nonzero()\n",
    "\n",
    "# show the inconsistent device information\n",
    "print('Inconsistent devices:')\n",
    "pd.concat((group_one.iloc[inconsistent_devices],\n",
    "           group_two.iloc[inconsistent_devices]), axis=1)"
   ]
  },
  {
   "cell_type": "code",
   "execution_count": 57,
   "metadata": {
    "collapsed": false
   },
   "outputs": [
    {
     "name": "stdout",
     "output_type": "stream",
     "text": [
      "Length before dropping duplicates: 186716\n",
      "Length after dropping duplicates: 186716\n"
     ]
    }
   ],
   "source": [
    "print('Length before dropping duplicates:',\n",
    "      len(df_phone_brand_device_model))\n",
    "\n",
    "# drop duplicates in place, i.e. no need to return a new copy.\n",
    "df_phone_brand_device_model.drop_duplicates(\n",
    "    subset='device_id', keep='first', inplace=True)\n",
    "\n",
    "print('Length after dropping duplicates:',\n",
    "      len(df_phone_brand_device_model))"
   ]
  },
  {
   "cell_type": "markdown",
   "metadata": {},
   "source": [
    "##### Device Models Associated with Multi-Brand\n",
    "\n",
    "We do a bit of grouping on the attributes ```device_model, phone_brand``` to see if a single device model could be **associated** with different brands. We could construct the following ```pivot_table``` with the ```'device_model'``` as the index, and each ```'phone_brand'``` as a column, each cell in the pivot table is the number of devices associated with the corresponding device_model and phone_brand.\n",
    "\n",
    "|              | Apple |      Nokia     | ... |\n",
    "|:------------:|:-----:|:--------------:|-----|\n",
    "|      M8      |   0   | num_of_devices |     |\n",
    "|   iPhone 6   |  ...  |       ...      | ... | \n",
    "\n"
   ]
  },
  {
   "cell_type": "code",
   "execution_count": 124,
   "metadata": {
    "collapsed": false
   },
   "outputs": [
    {
     "data": {
      "text/plain": [
       "count    54.000000\n",
       "mean      2.259259\n",
       "std       0.555765\n",
       "min       2.000000\n",
       "25%       2.000000\n",
       "50%       2.000000\n",
       "75%       2.000000\n",
       "max       4.000000\n",
       "dtype: float64"
      ]
     },
     "execution_count": 124,
     "metadata": {},
     "output_type": "execute_result"
    }
   ],
   "source": [
    "model_brand_table = df_phone_brand_device_model.pivot_table(\n",
    "    index=['device_model'],\n",
    "    columns=['phone_brand'],\n",
    "    aggfunc=len).fillna(0)\n",
    "\n",
    "phone_brands = model_brand_table.columns\n",
    "\n",
    "model_brand_table = model_brand_table.apply(\n",
    "    lambda x: len(x.nonzero()[0]), axis=1)\n",
    "\n",
    "# find out the device models that are associated with more than one brands.\n",
    "multi_brand_device_model = model_brand_table[model_brand_table > 1]\n",
    "\n",
    "def get_multi_brand_device_model():\n",
    "    ''' Another method using the groupby() function. '''\n",
    "    g = df_phone_brand_device_model.groupby(\n",
    "            'device_model')['phone_brand'].apply(pd.Series.nunique)\n",
    "\n",
    "    return g[g > 1].index\n",
    "\n",
    "\n",
    "multi_brand_device_model.describe()"
   ]
  },
  {
   "cell_type": "markdown",
   "metadata": {},
   "source": [
    "Encode the phone brand and the device model. Particularly, concatenating the device_model with its associated phone brand to make it unique."
   ]
  },
  {
   "cell_type": "code",
   "execution_count": 136,
   "metadata": {
    "collapsed": false
   },
   "outputs": [],
   "source": [
    "# encode the phone_brand string column with numbers\n",
    "df_phone_brand_device_model['brand'] = LabelEncoder().fit(\n",
    "    df_phone_brand_device_model['phone_brand']).transform(\n",
    "    df_phone_brand_device_model['phone_brand'])\n",
    "\n",
    "df_phone_brand_device_model.head()\n",
    "\n",
    "# encode the device_model string column with numbers.\n",
    "model_brand_labels = df_phone_brand_device_model.device_model.str.cat('_' + \n",
    "                        df_phone_brand_device_model.phone_brand)\n",
    "df_phone_brand_device_model['model'] = LabelEncoder().fit(\n",
    "    model_brand_labels).transform(model_brand_labels)"
   ]
  },
  {
   "cell_type": "code",
   "execution_count": 137,
   "metadata": {
    "collapsed": false
   },
   "outputs": [
    {
     "data": {
      "text/html": [
       "<div>\n",
       "<table border=\"1\" class=\"dataframe\">\n",
       "  <thead>\n",
       "    <tr style=\"text-align: right;\">\n",
       "      <th></th>\n",
       "      <th>device_id</th>\n",
       "      <th>phone_brand</th>\n",
       "      <th>device_model</th>\n",
       "      <th>brand</th>\n",
       "      <th>model</th>\n",
       "    </tr>\n",
       "  </thead>\n",
       "  <tbody>\n",
       "    <tr>\n",
       "      <th>0</th>\n",
       "      <td>-8890648629457979026</td>\n",
       "      <td>小米</td>\n",
       "      <td>红米</td>\n",
       "      <td>51</td>\n",
       "      <td>1591</td>\n",
       "    </tr>\n",
       "    <tr>\n",
       "      <th>1</th>\n",
       "      <td>1277779817574759137</td>\n",
       "      <td>小米</td>\n",
       "      <td>MI 2</td>\n",
       "      <td>51</td>\n",
       "      <td>773</td>\n",
       "    </tr>\n",
       "    <tr>\n",
       "      <th>2</th>\n",
       "      <td>5137427614288105724</td>\n",
       "      <td>三星</td>\n",
       "      <td>Galaxy S4</td>\n",
       "      <td>15</td>\n",
       "      <td>573</td>\n",
       "    </tr>\n",
       "    <tr>\n",
       "      <th>3</th>\n",
       "      <td>3669464369358936369</td>\n",
       "      <td>SUGAR</td>\n",
       "      <td>时尚手机</td>\n",
       "      <td>9</td>\n",
       "      <td>1571</td>\n",
       "    </tr>\n",
       "    <tr>\n",
       "      <th>4</th>\n",
       "      <td>-5019277647504317457</td>\n",
       "      <td>三星</td>\n",
       "      <td>Galaxy Note 2</td>\n",
       "      <td>15</td>\n",
       "      <td>546</td>\n",
       "    </tr>\n",
       "  </tbody>\n",
       "</table>\n",
       "</div>"
      ],
      "text/plain": [
       "             device_id phone_brand   device_model  brand  model\n",
       "0 -8890648629457979026          小米             红米     51   1591\n",
       "1  1277779817574759137          小米           MI 2     51    773\n",
       "2  5137427614288105724          三星      Galaxy S4     15    573\n",
       "3  3669464369358936369       SUGAR           时尚手机      9   1571\n",
       "4 -5019277647504317457          三星  Galaxy Note 2     15    546"
      ]
     },
     "execution_count": 137,
     "metadata": {},
     "output_type": "execute_result"
    }
   ],
   "source": [
    "df_phone_brand_device_model.head()"
   ]
  },
  {
   "cell_type": "code",
   "execution_count": 165,
   "metadata": {
    "collapsed": false
   },
   "outputs": [
    {
     "data": {
      "text/plain": [
       "<matplotlib.figure.Figure at 0x11b4272e8>"
      ]
     },
     "metadata": {},
     "output_type": "display_data"
    },
    {
     "data": {
      "image/png": "[encoded data removed]",
      "text/plain": [
       "<matplotlib.figure.Figure at 0x11b4274e0>"
      ]
     },
     "metadata": {},
     "output_type": "display_data"
    }
   ],
   "source": [
    "brand_count = df_phone_brand_device_model.brand.value_counts().sort_values(ascending=False)\n",
    "\n",
    "# calculate the accumulative percentage.\n",
    "graph_data = brand_count.cumsum() / brand_count.sum()\n",
    "\n",
    "plt.figure()\n",
    "fig, (ax_left,ax_right) = plt.subplots(1, 2, figsize=(16,4))  # sharey=True \n",
    "x_axis_data = np.arange(len(graph_data)) + 1\n",
    "y_axis_data = graph_data.values*100\n",
    "ax_left.plot(x_axis_data, y_axis_data, color='r', linewidth=1.5)\n",
    "ax_left.set_xlabel('N most popular phone brands')\n",
    "ax_left.set_ylabel('Percentage')\n",
    "ax_left.set_title('% of devices')\n",
    "ax_left.set_xlim(0, 30)\n",
    "\n",
    "model_count = df_phone_brand_device_model.model.value_counts().sort_values(ascending=False)\n",
    "model_count = model_count.cumsum() / model_count.sum()\n",
    "ax_right.plot(np.arange(len(model_count))+1, model_count*100, color='g', linewidth=1.5)\n",
    "ax_right.set_xlabel('N most popular phone models')\n",
    "ax_right.set_title('% of devices')\n",
    "ax_right.set_ylabel('Percentage')\n",
    "ax_right.set_xlim(0, 600)\n",
    "plt.show()"
   ]
  },
  {
   "cell_type": "markdown",
   "metadata": {},
   "source": [
    "## Classification"
   ]
  },
  {
   "cell_type": "markdown",
   "metadata": {},
   "source": [
    "In the next code section, we first encode the label of age groups with a number, so that we could use that for the model building and model evaluation."
   ]
  },
  {
   "cell_type": "code",
   "execution_count": 8,
   "metadata": {
    "collapsed": true
   },
   "outputs": [],
   "source": [
    "from sklearn.preprocessing import LabelEncoder\n",
    "from sklearn.metrics import log_loss\n",
    "\n",
    "# encode the group labels with integar number of 0 to num_classes\n",
    "group_label_encoder = LabelEncoder().fit(df_gender_age_train.group.values)\n",
    "\n",
    "group_labels = group_label_encoder.transform(df_gender_age_train.group.values)"
   ]
  },
  {
   "cell_type": "markdown",
   "metadata": {},
   "source": [
    "### Non-Preference Assignment\n",
    "\n",
    "A naive strategy to predict the probability that a sample could be assigned to a group, is to assume that each group has an equal probability."
   ]
  },
  {
   "cell_type": "code",
   "execution_count": 167,
   "metadata": {
    "collapsed": false
   },
   "outputs": [
    {
     "name": "stdout",
     "output_type": "stream",
     "text": [
      "log_loss of non-preference prediction: 2.48490664979\n"
     ]
    }
   ],
   "source": [
    "num_class = len(group_label_encoder.classes_)\n",
    "\n",
    "# the assignment to each class with equal probability.\n",
    "equal_pred = np.ones((len(df_gender_age_train), num_class)) / num_class\n",
    "\n",
    "print('log_loss of non-preference prediction:', log_loss(group_labels, equal_pred))"
   ]
  },
  {
   "cell_type": "markdown",
   "metadata": {},
   "source": [
    "### Cross Validation Assignment\n",
    "\n",
    "Another naive strategy of prediction, is to assume the probability of a sample to be assigned to a group is proportional to the *priori* propability of a group in the training dataset.\n",
    "\n",
    "In addition, we could use the **cross validation** method to divide the dataset into ```N``` folds, then we use the ```N-1``` folds as the training dataset to do the prediction for each fold.\n",
    "\n",
    "- Create N-folds out of the original data\n",
    "- For each fold, use the rest of the folds to do the prediction.\n",
    "\n",
    "The performance is slightly better than the non-preference assignment strategy."
   ]
  },
  {
   "cell_type": "code",
   "execution_count": 181,
   "metadata": {
    "collapsed": false
   },
   "outputs": [
    {
     "name": "stdout",
     "output_type": "stream",
     "text": [
      "log_loss of cross validation prediction: 2.42804066037\n"
     ]
    }
   ],
   "source": [
    "from sklearn.cross_validation import KFold\n",
    "\n",
    "kf = KFold(len(group_labels), n_folds=10, shuffle=True, random_state=None)\n",
    "\n",
    "x_valid_pred = np.zeros((len(df_gender_age_train), num_class))\n",
    "\n",
    "for train_index, test_index in kf:\n",
    "    train_X = df_gender_age_train.iloc[train_index, :]\n",
    "    test_X = df_gender_age_train.iloc[test_index, :]\n",
    "    \n",
    "    pred = train_X.groupby('group').size() / len(train_X)\n",
    "    x_valid_pred[test_index, :] = pred\n",
    "\n",
    "print('log_loss of cross validation prediction:',\n",
    "      log_loss(group_labels, x_valid_pred))"
   ]
  }
 ],
 "metadata": {
  "anaconda-cloud": {},
  "kernelspec": {
   "display_name": "Python [Root]",
   "language": "python",
   "name": "Python [Root]"
  },
  "language_info": {
   "codemirror_mode": {
    "name": "ipython",
    "version": 3
   },
   "file_extension": ".py",
   "mimetype": "text/x-python",
   "name": "python",
   "nbconvert_exporter": "python",
   "pygments_lexer": "ipython3",
   "version": "3.5.2"
  }
 },
 "nbformat": 4,
 "nbformat_minor": 0
}
